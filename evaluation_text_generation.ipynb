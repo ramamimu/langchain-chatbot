{
 "cells": [
  {
   "cell_type": "code",
   "execution_count": null,
   "metadata": {},
   "outputs": [],
   "source": [
    "from enum import Enum\n",
    "\n",
    "class Model(Enum):\n",
    "  GPT_TURBO = \"gpt-3.5-turbo\"\n",
    "  MISTRAL7B = \"mistralai/Mistral-7B-Instruct-v0.3\"\n",
    "  LLAMA2 = \"meta-llama/Llama-2-7b-chat-hf\"\n",
    "  AYA8B = \"CohereForAI/aya-23-8B\"\n",
    "  SEALION7B_INSTRUCT = \"aisingapore/sea-lion-7b-instruct\"\n",
    "  BLOOM = \"bigscience/bloom-560m\"\n",
    "  MERAK7B_ICHSAN = \"Ichsan2895/Merak-7B-v5-PROTOTYPE1-GGUF\"\n",
    "  MERAK7B_ASYAFIQ = \"asyafiqe/Merak-7B-v3-Mini-Orca-Indo-GGUF\""
   ]
  },
  {
   "cell_type": "code",
   "execution_count": null,
   "metadata": {},
   "outputs": [],
   "source": [
    "import os \n",
    "\n",
    "from huggingface_hub import snapshot_download, login\n",
    "from dotenv import load_dotenv\n",
    "\n",
    "from models import models, ModelName\n",
    "\n",
    "load_dotenv()\n",
    "\n",
    "login(os.getenv(\"HUGGINGFACEHUB_API_TOKEN\"))\n",
    "\n",
    "model_name = Model.MISTRAL7B\n",
    "snapshot_download(repo_id=models[ModelName.MULTILINGUAL_E5_SMALL.value][\"repo_id\"],\n",
    "                   local_dir=models[ModelName.MULTILINGUAL_E5_SMALL.value][\"local_dir\"])\n"
   ]
  }
 ],
 "metadata": {
  "kernelspec": {
   "display_name": "venv",
   "language": "python",
   "name": "python3"
  },
  "language_info": {
   "name": "python",
   "version": "3.8.10"
  }
 },
 "nbformat": 4,
 "nbformat_minor": 2
}
