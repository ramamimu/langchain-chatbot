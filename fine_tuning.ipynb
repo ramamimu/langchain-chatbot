{
 "cells": [
  {
   "cell_type": "code",
   "execution_count": 1,
   "metadata": {},
   "outputs": [
    {
     "name": "stderr",
     "output_type": "stream",
     "text": [
      "/home/ram/Codes/college/chatbot/local-langchain/venv/lib/python3.8/site-packages/sentence_transformers/cross_encoder/CrossEncoder.py:11: TqdmWarning: IProgress not found. Please update jupyter and ipywidgets. See https://ipywidgets.readthedocs.io/en/stable/user_install.html\n",
      "  from tqdm.autonotebook import tqdm, trange\n",
      "/home/ram/Codes/college/chatbot/local-langchain/venv/lib/python3.8/site-packages/accelerate/accelerator.py:436: FutureWarning: Passing the following arguments to `Accelerator` is deprecated and will be removed in version 1.0 of Accelerate: dict_keys(['dispatch_batches', 'split_batches', 'even_batches', 'use_seedable_sampler']). Please pass an `accelerate.DataLoaderConfiguration` instead: \n",
      "dataloader_config = DataLoaderConfiguration(dispatch_batches=None, split_batches=False, even_batches=True, use_seedable_sampler=True)\n",
      "  warnings.warn(\n",
      "100%|██████████| 264/264 [01:21<00:00,  3.26it/s]\n"
     ]
    },
    {
     "name": "stdout",
     "output_type": "stream",
     "text": [
      "{'train_runtime': 81.0604, 'train_samples_per_second': 52.109, 'train_steps_per_second': 3.257, 'train_loss': 0.16358395778771603, 'epoch': 6.0}\n"
     ]
    },
    {
     "name": "stderr",
     "output_type": "stream",
     "text": [
      "                                                                     "
     ]
    },
    {
     "name": "stdout",
     "output_type": "stream",
     "text": [
      "Model fine-tuning complete. Model saved to ./app/model/modules/multilingual-e5-small-finetuning-6.\n"
     ]
    },
    {
     "name": "stderr",
     "output_type": "stream",
     "text": [
      "\r"
     ]
    }
   ],
   "source": [
    "import pandas as pd\n",
    "from torch.utils.data import DataLoader\n",
    "from sentence_transformers import SentenceTransformer, InputExample, losses, util\n",
    "import math\n",
    "\n",
    "from models import models, ModelName\n",
    "\n",
    "# Load the dataset\n",
    "# Modify the path to point to your csv file\n",
    "\n",
    "model_path = ModelName.MULTILINGUAL_MINILM.value\n",
    "csv_file = 'fine_tuning_dataset/all_merged_dataset.csv'\n",
    "df = pd.read_csv(csv_file)\n",
    "\n",
    "# Create InputExamples\n",
    "train_examples = [InputExample(texts=[row['question'], row['context']]) for _, row in df.iterrows()]\n",
    "\n",
    "# Create a DataLoader\n",
    "train_dataloader = DataLoader(train_examples, shuffle=True, batch_size=16)\n",
    "\n",
    "# Load the pre-trained model\n",
    "model = SentenceTransformer('sentence-transformers/paraphrase-multilingual-MiniLM-L12-v2')\n",
    "\n",
    "# Use MultipleNegativesRankingLoss for training\n",
    "train_loss = losses.MultipleNegativesRankingLoss(model)\n",
    "\n",
    "# Fine-tune the model\n",
    "num_epochs = 6\n",
    "warmup_steps = math.ceil(len(train_dataloader) * num_epochs * 0.1)\n",
    "model_name = \"\"\n",
    "if num_epochs == 1:\n",
    "  model_name = ModelName.MULTILINGUAL_E5_SMALL_FINETUNING_1.value\n",
    "elif num_epochs == 2:\n",
    "  model_name = ModelName.MULTILINGUAL_E5_SMALL_FINETUNING_2.value\n",
    "elif num_epochs == 3:\n",
    "  model_name = ModelName.MULTILINGUAL_E5_SMALL_FINETUNING_3.value\n",
    "elif num_epochs == 4:\n",
    "  model_name = ModelName.MULTILINGUAL_E5_SMALL_FINETUNING_4.value\n",
    "elif num_epochs == 5:\n",
    "  model_name = ModelName.MULTILINGUAL_E5_SMALL_FINETUNING_5.value\n",
    "elif num_epochs == 6:\n",
    "  model_name = ModelName.MULTILINGUAL_E5_SMALL_FINETUNING_6.value\n",
    "else:\n",
    "  raise\n",
    "\n",
    "output_path = models[model_name]['local_dir']\n",
    "model.fit(train_objectives=[(train_dataloader, train_loss)],\n",
    "          epochs=num_epochs,\n",
    "          warmup_steps=warmup_steps,\n",
    "          output_path=output_path)\n",
    "\n",
    "print(f\"Model fine-tuning complete. Model saved to {output_path}.\")"
   ]
  },
  {
   "cell_type": "code",
   "execution_count": 2,
   "metadata": {},
   "outputs": [
    {
     "name": "stdout",
     "output_type": "stream",
     "text": [
      "Similarity between: 'How are you?' and 'How do you do?' is 0.4741\n",
      "Similarity between: 'What is your name?' and 'What's your name?' is 0.9350\n",
      "Similarity between: 'Where do you live?' and 'Where is your home located?' is 0.7845\n"
     ]
    }
   ],
   "source": [
    "# Example evaluation - you may need to adapt according to your dataset\n",
    "evaluation_examples = [\n",
    "    (\"How are you?\", \"How do you do?\"),\n",
    "    (\"What is your name?\", \"What's your name?\"),\n",
    "    (\"Where do you live?\", \"Where is your home located?\")\n",
    "]\n",
    "\n",
    "model = SentenceTransformer(output_path)\n",
    "\n",
    "for pair in evaluation_examples:\n",
    "    embeddings = model.encode(pair)\n",
    "    similarity = util.pytorch_cos_sim(embeddings[0], embeddings[1])\n",
    "    print(f\"Similarity between: '{pair[0]}' and '{pair[1]}' is {similarity.item():.4f}\")"
   ]
  }
 ],
 "metadata": {
  "kernelspec": {
   "display_name": "venv",
   "language": "python",
   "name": "python3"
  },
  "language_info": {
   "codemirror_mode": {
    "name": "ipython",
    "version": 3
   },
   "file_extension": ".py",
   "mimetype": "text/x-python",
   "name": "python",
   "nbconvert_exporter": "python",
   "pygments_lexer": "ipython3",
   "version": "3.8.10"
  }
 },
 "nbformat": 4,
 "nbformat_minor": 2
}
